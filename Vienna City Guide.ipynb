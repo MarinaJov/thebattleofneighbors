{
    "cells": [
        {
            "metadata": {
                "collapsed": true
            },
            "cell_type": "markdown",
            "source": "# Vienna City Guide: the guide to Vienna districts and restaurants"
        },
        {
            "metadata": {},
            "cell_type": "markdown",
            "source": "## Introduction:\n\nEach of the 23 Vienna districts display a distinctive character that attracts millions of visitors each year. The capital of Austria does not only have impressive libraries, atmospheric cafes, beautiful palaces, museums and galleries, but also delicious food.\n\nIn this project we will explore types of restaurants that exist in Vienna's districts and provide a guide to visitors looking for their favorite dishes. In particular, we will compare Vienna's 23 districts in order to discover which types of restaurants are most likely to be found in each of the 23 districts. Our target audience are primarily tourists and people coming to study in Vienna."
        },
        {
            "metadata": {},
            "cell_type": "markdown",
            "source": "## Data:\n\nThe list of districts will be made by scraping a Wikipedia page: https://de.wikipedia.org/wiki/Wiener_Gemeindebezirke.\n\nFoursquare will be used to get Geospatial Data about restaurants in Vienna. I will use Foursquare data such as the restaurant name, ID, location and food category (Italian, vegetarian, etc.).\n\nBy combining the list of districts and Foursquare date, we will learn about the concentration of restaurants in each of the districts."
        }
    ],
    "metadata": {
        "kernelspec": {
            "name": "python3",
            "display_name": "Python 3.7",
            "language": "python"
        },
        "language_info": {
            "name": "python",
            "version": "3.7.10",
            "mimetype": "text/x-python",
            "codemirror_mode": {
                "name": "ipython",
                "version": 3
            },
            "pygments_lexer": "ipython3",
            "nbconvert_exporter": "python",
            "file_extension": ".py"
        }
    },
    "nbformat": 4,
    "nbformat_minor": 1
}