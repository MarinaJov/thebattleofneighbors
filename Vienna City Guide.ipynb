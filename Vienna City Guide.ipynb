{
    "cells": [
        {
            "cell_type": "markdown",
            "metadata": {
                "collapsed": true
            },
            "source": "# Vienna City Guide: the best place for students"
        },
        {
            "cell_type": "markdown",
            "metadata": {},
            "source": "Introduction:\n\nWith numerous international programmes, impressive libraries, its atmospheric cafes, museums and galleries, the capital of Austria is perfect for students.\nIn this project we will explore best places to stay in Vienna provide a guide to people coming to study in this city. In particular, we will compare Vienna's 23 districts in order to discover which distric has cheaper rent. \n\nData:\n\nThe apartments data (size, number of rooms, price, and address) will be collected by scraping a website with apartment listings (immo.kurier.at). We will use geopy to find the coordinates for each district. Foursquare will be used to get information on the nearby places interesting to students (supermarkets, cafes, parks, etc). \n\nFinally, we will use k-means clustering to cluster the districts and visualize the data on a coropleth map. "
        }
    ],
    "metadata": {
        "kernelspec": {
            "display_name": "Python 3.7",
            "language": "python",
            "name": "python3"
        },
        "language_info": {
            "codemirror_mode": {
                "name": "ipython",
                "version": 3
            },
            "file_extension": ".py",
            "mimetype": "text/x-python",
            "name": "python",
            "nbconvert_exporter": "python",
            "pygments_lexer": "ipython3",
            "version": "3.7.9"
        }
    },
    "nbformat": 4,
    "nbformat_minor": 1
}